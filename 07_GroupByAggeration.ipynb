{
 "cells": [
  {
   "cell_type": "code",
   "execution_count": 1,
   "id": "8cd888e0",
   "metadata": {},
   "outputs": [],
   "source": [
    "import numpy as np\n",
    "import pandas as pd"
   ]
  },
  {
   "cell_type": "code",
   "execution_count": 6,
   "id": "a5e48fd4",
   "metadata": {},
   "outputs": [
    {
     "data": {
      "text/html": [
       "<div>\n",
       "<style scoped>\n",
       "    .dataframe tbody tr th:only-of-type {\n",
       "        vertical-align: middle;\n",
       "    }\n",
       "\n",
       "    .dataframe tbody tr th {\n",
       "        vertical-align: top;\n",
       "    }\n",
       "\n",
       "    .dataframe thead th {\n",
       "        text-align: right;\n",
       "    }\n",
       "</style>\n",
       "<table border=\"1\" class=\"dataframe\">\n",
       "  <thead>\n",
       "    <tr style=\"text-align: right;\">\n",
       "      <th></th>\n",
       "      <th>Date</th>\n",
       "      <th>Product</th>\n",
       "      <th>Category</th>\n",
       "      <th>Units Sold</th>\n",
       "      <th>Unit Price</th>\n",
       "      <th>Total Revenue</th>\n",
       "    </tr>\n",
       "  </thead>\n",
       "  <tbody>\n",
       "    <tr>\n",
       "      <th>0</th>\n",
       "      <td>2025-07-01</td>\n",
       "      <td>Laptop</td>\n",
       "      <td>Electronics</td>\n",
       "      <td>5</td>\n",
       "      <td>60000</td>\n",
       "      <td>300000</td>\n",
       "    </tr>\n",
       "    <tr>\n",
       "      <th>1</th>\n",
       "      <td>2025-07-02</td>\n",
       "      <td>Phone</td>\n",
       "      <td>Electronics</td>\n",
       "      <td>10</td>\n",
       "      <td>25000</td>\n",
       "      <td>250000</td>\n",
       "    </tr>\n",
       "    <tr>\n",
       "      <th>2</th>\n",
       "      <td>2025-07-03</td>\n",
       "      <td>Tablet</td>\n",
       "      <td>Electronics</td>\n",
       "      <td>7</td>\n",
       "      <td>18000</td>\n",
       "      <td>126000</td>\n",
       "    </tr>\n",
       "    <tr>\n",
       "      <th>3</th>\n",
       "      <td>2025-07-04</td>\n",
       "      <td>Monitor</td>\n",
       "      <td>Electronics</td>\n",
       "      <td>3</td>\n",
       "      <td>12000</td>\n",
       "      <td>36000</td>\n",
       "    </tr>\n",
       "    <tr>\n",
       "      <th>4</th>\n",
       "      <td>2025-07-05</td>\n",
       "      <td>Keyboard</td>\n",
       "      <td>Accessories</td>\n",
       "      <td>15</td>\n",
       "      <td>1500</td>\n",
       "      <td>22500</td>\n",
       "    </tr>\n",
       "  </tbody>\n",
       "</table>\n",
       "</div>"
      ],
      "text/plain": [
       "         Date   Product     Category  Units Sold  Unit Price  Total Revenue\n",
       "0  2025-07-01    Laptop  Electronics           5       60000         300000\n",
       "1  2025-07-02     Phone  Electronics          10       25000         250000\n",
       "2  2025-07-03    Tablet  Electronics           7       18000         126000\n",
       "3  2025-07-04   Monitor  Electronics           3       12000          36000\n",
       "4  2025-07-05  Keyboard  Accessories          15        1500          22500"
      ]
     },
     "execution_count": 6,
     "metadata": {},
     "output_type": "execute_result"
    }
   ],
   "source": [
    "data = {\n",
    "    'Date': ['2025-07-01', '2025-07-02', '2025-07-03', '2025-07-04', '2025-07-05'],\n",
    "    'Product': ['Laptop', 'Phone', 'Tablet', 'Monitor', 'Keyboard'],\n",
    "    'Category': ['Electronics', 'Electronics', 'Electronics', 'Electronics', 'Accessories'],\n",
    "    'Units Sold': [5, 10, 7, 3, 15],\n",
    "    'Unit Price': [60000, 25000, 18000, 12000, 1500],\n",
    "    'Total Revenue': [5*60000, 10*25000, 7*18000, 3*12000, 15*1500]\n",
    "}\n",
    "df1 = pd.DataFrame(data)\n",
    "df1"
   ]
  },
  {
   "cell_type": "markdown",
   "id": "11449e88",
   "metadata": {},
   "source": [
    "### GROUP"
   ]
  },
  {
   "cell_type": "code",
   "execution_count": 20,
   "id": "38d88923",
   "metadata": {},
   "outputs": [
    {
     "data": {
      "text/plain": [
       "Category\n",
       "Accessories     22500\n",
       "Electronics    712000\n",
       "Name: Total Revenue, dtype: int64"
      ]
     },
     "execution_count": 20,
     "metadata": {},
     "output_type": "execute_result"
    }
   ],
   "source": [
    "A = df1.groupby('Category')['Total Revenue'].sum()\n",
    "A"
   ]
  },
  {
   "cell_type": "code",
   "execution_count": 12,
   "id": "558b091a",
   "metadata": {},
   "outputs": [
    {
     "data": {
      "text/plain": [
       "Category     Product \n",
       "Accessories  Keyboard     22500\n",
       "Electronics  Laptop      300000\n",
       "             Monitor      36000\n",
       "             Phone       250000\n",
       "             Tablet      126000\n",
       "Name: Total Revenue, dtype: int64"
      ]
     },
     "execution_count": 12,
     "metadata": {},
     "output_type": "execute_result"
    }
   ],
   "source": [
    "B = df1.groupby(['Category','Product'])['Total Revenue'].sum()\n",
    "B"
   ]
  },
  {
   "cell_type": "markdown",
   "id": "12150dce",
   "metadata": {},
   "source": [
    "### Aggeration"
   ]
  },
  {
   "cell_type": "code",
   "execution_count": 17,
   "id": "38479899",
   "metadata": {},
   "outputs": [
    {
     "data": {
      "text/plain": [
       "sum       734500.000000\n",
       "mean      146900.000000\n",
       "max       300000.000000\n",
       "min        22500.000000\n",
       "median    126000.000000\n",
       "count          5.000000\n",
       "std       124780.006411\n",
       "Name: Total Revenue, dtype: float64"
      ]
     },
     "execution_count": 17,
     "metadata": {},
     "output_type": "execute_result"
    }
   ],
   "source": [
    "df1['Total Revenue'].agg(['sum','mean','max','min','median','count','std'])"
   ]
  }
 ],
 "metadata": {
  "kernelspec": {
   "display_name": "Python (venv)",
   "language": "python",
   "name": "venv"
  },
  "language_info": {
   "codemirror_mode": {
    "name": "ipython",
    "version": 3
   },
   "file_extension": ".py",
   "mimetype": "text/x-python",
   "name": "python",
   "nbconvert_exporter": "python",
   "pygments_lexer": "ipython3",
   "version": "3.10.11"
  }
 },
 "nbformat": 4,
 "nbformat_minor": 5
}
