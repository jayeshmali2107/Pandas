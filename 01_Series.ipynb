{
 "cells": [
  {
   "cell_type": "markdown",
   "id": "5eca086e",
   "metadata": {},
   "source": [
    "####CREATING SERIES"
   ]
  },
  {
   "cell_type": "code",
   "execution_count": 4,
   "id": "6c6e0aab",
   "metadata": {},
   "outputs": [],
   "source": [
    "import numpy as np\n",
    "import pandas as pd"
   ]
  },
  {
   "cell_type": "code",
   "execution_count": 11,
   "id": "5cec5ead",
   "metadata": {},
   "outputs": [],
   "source": [
    "labels = ['a','b','c','d','e']\n",
    "my_list = [1,2,3,4,5]\n",
    "arr =np.array([1,2,4,5])\n",
    "dictionary = {'name' : 'jayesh','class': 12,'age' : 19}"
   ]
  },
  {
   "cell_type": "code",
   "execution_count": null,
   "id": "30e0d4d2",
   "metadata": {},
   "outputs": [
    {
     "data": {
      "text/plain": [
       "name     jayesh\n",
       "class        12\n",
       "age          19\n",
       "dtype: object"
      ]
     },
     "execution_count": 10,
     "metadata": {},
     "output_type": "execute_result"
    }
   ],
   "source": [
    "pd.Series(my_list)"
   ]
  },
  {
   "cell_type": "code",
   "execution_count": 13,
   "id": "0ae6dde8",
   "metadata": {},
   "outputs": [
    {
     "data": {
      "text/plain": [
       "a    1\n",
       "b    2\n",
       "c    3\n",
       "d    4\n",
       "e    5\n",
       "dtype: int64"
      ]
     },
     "execution_count": 13,
     "metadata": {},
     "output_type": "execute_result"
    }
   ],
   "source": [
    "pd.Series(my_list,index=labels)"
   ]
  },
  {
   "cell_type": "code",
   "execution_count": 14,
   "id": "cfe8fa4d",
   "metadata": {},
   "outputs": [
    {
     "data": {
      "text/plain": [
       "p    1\n",
       "q    2\n",
       "r    4\n",
       "s    5\n",
       "dtype: int32"
      ]
     },
     "execution_count": 14,
     "metadata": {},
     "output_type": "execute_result"
    }
   ],
   "source": [
    "pd.Series(arr,index=['p','q','r','s'])"
   ]
  },
  {
   "cell_type": "code",
   "execution_count": 12,
   "id": "833e0861",
   "metadata": {},
   "outputs": [
    {
     "data": {
      "text/plain": [
       "name     jayesh\n",
       "class        12\n",
       "age          19\n",
       "dtype: object"
      ]
     },
     "execution_count": 12,
     "metadata": {},
     "output_type": "execute_result"
    }
   ],
   "source": [
    "pd.Series(dictionary)"
   ]
  }
 ],
 "metadata": {
  "kernelspec": {
   "display_name": "Python (venv)",
   "language": "python",
   "name": "venv"
  },
  "language_info": {
   "codemirror_mode": {
    "name": "ipython",
    "version": 3
   },
   "file_extension": ".py",
   "mimetype": "text/x-python",
   "name": "python",
   "nbconvert_exporter": "python",
   "pygments_lexer": "ipython3",
   "version": "3.10.11"
  }
 },
 "nbformat": 4,
 "nbformat_minor": 5
}
